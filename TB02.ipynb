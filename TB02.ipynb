{
  "nbformat": 4,
  "nbformat_minor": 0,
  "metadata": {
    "colab": {
      "provenance": []
    },
    "kernelspec": {
      "name": "python3",
      "display_name": "Python 3"
    },
    "language_info": {
      "name": "python"
    }
  },
  "cells": [
    {
      "cell_type": "code",
      "source": [
        "import graphviz as gv\n",
        "from IPython.display import Image, display\n",
        "import csv\n",
        "\n",
        "productos = []\n",
        "with open('Prueba.txt', 'r') as archivo:\n",
        "    lector = csv.DictReader(archivo)\n",
        "    for fila in lector:\n",
        "        productos.append({\n",
        "            \"nombre\": fila['product'],\n",
        "            \"category\": fila['category'],\n",
        "            \"rating\": float(fila['rating'])\n",
        "        })\n",
        "\n",
        "def sugerir_producto(producto_nombre):\n",
        "    producto_ingresado = next((p for p in productos if producto_nombre.lower() in p['nombre'].lower()), None)\n",
        "\n",
        "    if not producto_ingresado:\n",
        "        return f\"Producto '{producto_nombre}' no encontrado.\"\n",
        "\n",
        "    productos_relacionados = [p for p in productos if p['category'] == producto_ingresado['category']]\n",
        "\n",
        "    mejor_producto = max(productos_relacionados, key=lambda x: x['rating'])\n",
        "\n",
        "    return f\"Producto sugerido: {mejor_producto['nombre']} con un rating de {mejor_producto['rating']}.\"\n",
        "\n",
        "def show(productos, directed=False, max_edges=200000, layout=\"dot\"):\n",
        "    g = gv.Digraph(\"direccionado\") if directed else gv.Graph()\n",
        "\n",
        "    g.graph_attr[\"layout\"] = layout\n",
        "    g.edge_attr[\"color\"] = \"gray\"\n",
        "    g.node_attr[\"color\"] = \"orangered\"\n",
        "    g.node_attr[\"width\"] = \"0.1\"\n",
        "    g.node_attr[\"height\"] = \"0.1\"\n",
        "    g.node_attr[\"fontsize\"] = \"8\"\n",
        "    g.node_attr[\"fontcolor\"] = \"mediumslateblue\"\n",
        "    g.node_attr[\"fontname\"] = \"monospace\"\n",
        "    g.edge_attr[\"fontcolor\"] = \"mediumslateblue\"\n",
        "    g.edge_attr[\"fontname\"] = \"monospace\"\n",
        "\n",
        "    for i, producto in enumerate(productos):\n",
        "        g.node(str(i), label=f\"{producto['nombre']}\\nRating: {producto['rating']}\")\n",
        "\n",
        "    added = set()\n",
        "    aristas_agregadas = 0\n",
        "    for i in range(len(productos)):\n",
        "        for j in range(i + 1, len(productos)):\n",
        "            if aristas_agregadas >= max_edges:\n",
        "                break\n",
        "            if productos[i][\"category\"] == productos[j][\"category\"]:\n",
        "                if directed:\n",
        "                    g.edge(str(i), str(j), label=f\"Rating: {productos[j]['rating']}\")\n",
        "                else:\n",
        "                    if not f\"{i}, {j}\" in added:\n",
        "                        g.edge(str(i), str(j), label=f\"Rating: {productos[j]['rating']}\")\n",
        "                        added.add(f\"{i}, {j}\")\n",
        "                        added.add(f\"{j}, {i}\")\n",
        "                aristas_agregadas += 1\n",
        "    return g\n",
        "\n",
        "grafo = show(productos, directed=False, max_edges=200000, layout=\"sfdp\")\n",
        "\n",
        "grafo.render('grafo_productos', format='png')\n",
        "\n",
        "display(Image(filename='grafo_productos.png'))\n",
        "\n",
        "sugerencia = sugerir_producto('soap')\n",
        "\n",
        "print(sugerencia)"
      ],
      "metadata": {
        "id": "pgQtUpDhsMne"
      },
      "execution_count": null,
      "outputs": []
    }
  ]
}
